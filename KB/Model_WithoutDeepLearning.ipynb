{
  "nbformat": 4,
  "nbformat_minor": 0,
  "metadata": {
    "colab": {
      "provenance": [],
      "gpuType": "T4"
    },
    "kernelspec": {
      "name": "python3",
      "display_name": "Python 3"
    },
    "language_info": {
      "name": "python"
    },
    "accelerator": "GPU"
  },
  "cells": [
    {
      "cell_type": "code",
      "source": [
        "import pandas as pd\n",
        "import numpy as np\n",
        "import matplotlib.pyplot as plt\n",
        "import seaborn as sns"
      ],
      "metadata": {
        "id": "ZzyNK4owzpW9"
      },
      "execution_count": 18,
      "outputs": []
    },
    {
      "cell_type": "code",
      "source": [
        "input_path = 'kliknklik_gaming_laptop.csv'\n",
        "output_path = 'laptop_final_processed.csv'\n",
        "df = pd.read_csv(input_path)\n"
      ],
      "metadata": {
        "id": "-K6anNpUuO0z"
      },
      "execution_count": 19,
      "outputs": []
    },
    {
      "cell_type": "code",
      "source": [
        "\n",
        "columns_to_drop = [\"Keyboard\", \"Microsoft Office\"]\n",
        "df_cleaned = df.drop(columns=[col for col in columns_to_drop if col in df.columns], errors='ignore')\n",
        "\n",
        "print(\"Missing Values Before Handling:\")\n",
        "print(df_cleaned.isnull().sum())\n",
        "\n",
        "numeric_cols = df_cleaned.select_dtypes(include=['float64', 'int64']).columns\n",
        "categorical_cols = df_cleaned.select_dtypes(include=['object']).columns\n",
        "\n",
        "for col in numeric_cols:\n",
        "    df_cleaned[col] = df_cleaned[col].fillna(df_cleaned[col].median())\n",
        "\n",
        "for col in categorical_cols:\n",
        "    df_cleaned[col] = df_cleaned[col].fillna(df_cleaned[col].mode()[0])\n",
        "\n",
        "print(\"\\nMissing Values After Handling:\")\n",
        "print(df_cleaned.isnull().sum())\n",
        "\n",
        "print(f\"\\nTotal rows before removing duplicates: {len(df_cleaned)}\")\n",
        "df_cleaned = df_cleaned.drop_duplicates()\n",
        "print(f\"Total rows after removing duplicates: {len(df_cleaned)}\")\n"
      ],
      "metadata": {
        "colab": {
          "base_uri": "https://localhost:8080/"
        },
        "id": "NxgxGuRauRit",
        "outputId": "e4d516ef-e71b-4c3e-9b8e-916d874355b1"
      },
      "execution_count": 20,
      "outputs": [
        {
          "output_type": "stream",
          "name": "stdout",
          "text": [
            "Missing Values Before Handling:\n",
            "Nama                0\n",
            "Berat               0\n",
            "Dimensi             0\n",
            "Garansi             4\n",
            "VGA                 0\n",
            "Tipe Penyimpanan    0\n",
            "Processor           0\n",
            "Penyimpanan         0\n",
            "Ukuran Layar        0\n",
            "Warna               0\n",
            "RAM                 0\n",
            "Sistem Operasi      0\n",
            "Brand               0\n",
            "Tipe Layar          0\n",
            "Harga               0\n",
            "dtype: int64\n",
            "\n",
            "Missing Values After Handling:\n",
            "Nama                0\n",
            "Berat               0\n",
            "Dimensi             0\n",
            "Garansi             0\n",
            "VGA                 0\n",
            "Tipe Penyimpanan    0\n",
            "Processor           0\n",
            "Penyimpanan         0\n",
            "Ukuran Layar        0\n",
            "Warna               0\n",
            "RAM                 0\n",
            "Sistem Operasi      0\n",
            "Brand               0\n",
            "Tipe Layar          0\n",
            "Harga               0\n",
            "dtype: int64\n",
            "\n",
            "Total rows before removing duplicates: 646\n",
            "Total rows after removing duplicates: 646\n"
          ]
        }
      ]
    },
    {
      "cell_type": "code",
      "source": [
        "plt.figure(figsize=(15, 10))\n",
        "for i, col in enumerate(numeric_cols, 1):\n",
        "    plt.subplot(2, 3, i)\n",
        "    sns.boxplot(x=df_cleaned[col])\n",
        "    plt.title(f'Boxplot {col}')\n",
        "plt.tight_layout()\n",
        "plt.show()\n",
        "\n",
        "for col in numeric_cols:\n",
        "    Q1 = df_cleaned[col].quantile(0.25)\n",
        "    Q3 = df_cleaned[col].quantile(0.75)\n",
        "    IQR = Q3 - Q1\n",
        "    lower_bound = Q1 - 1.5 * IQR\n",
        "    upper_bound = Q3 + 1.5 * IQR\n",
        "\n",
        "    df_before = len(df_cleaned)\n",
        "    df_cleaned = df_cleaned[(df_cleaned[col] >= lower_bound) & (df_cleaned[col] <= upper_bound)]\n",
        "    df_after = len(df_cleaned)\n",
        "    print(f\"Outliers in {col}: {df_before - df_after} rows removed\")\n"
      ],
      "metadata": {
        "colab": {
          "base_uri": "https://localhost:8080/",
          "height": 34
        },
        "id": "8hXbwHGhuTt0",
        "outputId": "fcf7b102-25a9-4555-b49b-53e74060c9b7"
      },
      "execution_count": 21,
      "outputs": [
        {
          "output_type": "display_data",
          "data": {
            "text/plain": [
              "<Figure size 1500x1000 with 0 Axes>"
            ]
          },
          "metadata": {}
        }
      ]
    },
    {
      "cell_type": "code",
      "source": [
        "if 'Berat' in df_cleaned.columns:\n",
        "    df_cleaned['Berat'] = df_cleaned['Berat'].str.replace('kg', '').astype(float)\n",
        "\n",
        "\n",
        "if 'Dimensi' in df_cleaned.columns:\n",
        "    df_cleaned['Dimensi'] = df_cleaned['Dimensi'].str.replace(r'[^\\d\\.x]', '', regex=True)\n",
        "\n",
        "\n",
        "if 'Penyimpanan' in df_cleaned.columns:\n",
        "    df_cleaned['Penyimpanan'] = df_cleaned['Penyimpanan'].str.replace('TB', '000').str.replace('GB', '').astype(float)\n",
        "\n",
        "if 'Harga' in df_cleaned.columns:\n",
        "    df_cleaned['Harga'] = (\n",
        "        df_cleaned['Harga']\n",
        "        .str.replace('Rp', '', regex=True)\n",
        "        .str.replace('[^0-9]', '', regex=True)\n",
        "        .astype(float)\n",
        "    )"
      ],
      "metadata": {
        "id": "bybzlFNnuWUe"
      },
      "execution_count": 22,
      "outputs": []
    },
    {
      "cell_type": "code",
      "source": [
        "if 'VGA' in df_cleaned.columns:\n",
        "    df_cleaned['VGA'] = df_cleaned['VGA'].astype(str)\n",
        "    df_cleaned['Jenis VGA'] = df_cleaned['VGA'].str.extract(r'(?i)(NVIDIA|AMD|Intel|GeForce|Radeon|RTX|GTX|Intel Iris|Intel UHD)')\n",
        "\n",
        "    df_cleaned['Tier VGA'] = df_cleaned['VGA'].apply(lambda vga_name: (\n",
        "        \"1\" if \"rtx\" in vga_name.lower() else\n",
        "        \"2\" if \"gtx\" in vga_name.lower() or \"rx\" in vga_name.lower() else\n",
        "        \"3\" if \"mx\" in vga_name.lower() or \"intel iris\" in vga_name.lower() or \"radeon rx 5\" in vga_name.lower() or \"amd radeon\" in vga_name.lower() else\n",
        "        \"Unknown Tier\"\n",
        "    ))\n",
        "\n",
        "if 'Processor' in df_cleaned.columns:\n",
        "    df_cleaned['Tier Processor'] = df_cleaned['Processor'].apply(lambda processor_name: (\n",
        "        \"1\" if any(x in processor_name.lower() for x in [\"i9\", \"ryzen 9\", \"i7\", \"ryzen 7\"]) else\n",
        "        \"2\" if any(x in processor_name.lower() for x in [\"i5\", \"ryzen 5\"]) else\n",
        "        \"3\" if any(x in processor_name.lower() for x in [\"i3\", \"ryzen 3\"]) else\n",
        "        \"4\" if any(x in processor_name.lower() for x in [\"celeron\", \"pentium\"]) else\n",
        "        \"Unknown Tier\"\n",
        "    ))\n",
        "\n",
        "df_cleaned.to_csv(output_path, index=False)\n",
        "print(f\"\\nFinal dataset saved to: {output_path}\")\n",
        "print(\"\\nSample Data:\")\n",
        "print(df_cleaned.head())\n"
      ],
      "metadata": {
        "colab": {
          "base_uri": "https://localhost:8080/"
        },
        "id": "v8bJ4PcYuY-4",
        "outputId": "3efafd7a-60a3-4339-ccae-3b24547ac250"
      },
      "execution_count": 23,
      "outputs": [
        {
          "output_type": "stream",
          "name": "stdout",
          "text": [
            "\n",
            "Final dataset saved to: laptop_final_processed.csv\n",
            "\n",
            "Sample Data:\n",
            "                                                Nama  Berat Dimensi  \\\n",
            "0  RAZER BLADE ADVANCE 18 INTEL I9 13950HX 64GB D...    5.0  402010   \n",
            "1  RAZER BLADE ADVANCE 18 INTEL I9 13950HX 32GB D...    5.0  402010   \n",
            "2  RAZER BLADE ADVANCE 16 INTEL I9 13950HX 32GB D...    5.0  402010   \n",
            "3  RAZER BLADE ADVANCE 16 INTEL I9 13950HX 32GB D...    5.0  402010   \n",
            "4  RAZER BLADE ADVANCE 16 INTEL I9 13950HX 16GB D...    5.0  402010   \n",
            "\n",
            "                              Garansi             VGA Tipe Penyimpanan  \\\n",
            "0  RAZER 1 YEAR (SERVICE & SPAREPART)  NVIDIA RTX4090              SSD   \n",
            "1  RAZER 1 YEAR (SERVICE & SPAREPART)  NVIDIA RTX4090              SSD   \n",
            "2  RAZER 1 YEAR (SERVICE & SPAREPART)  NVIDIA RTX4090              SSD   \n",
            "3  RAZER 1 YEAR (SERVICE & SPAREPART)  NVIDIA RTX4080              SSD   \n",
            "4  RAZER 1 YEAR (SERVICE & SPAREPART)  NVIDIA RTX4070              SSD   \n",
            "\n",
            "       Processor  Penyimpanan Ukuran Layar  Warna   RAM   Sistem Operasi  \\\n",
            "0  Intel Core i9       2000.0      18 Inch  Black  16GB  Windows 11 Home   \n",
            "1  Intel Core i9       2000.0      18 Inch  Black  16GB  Windows 11 Home   \n",
            "2  Intel Core i9       2000.0      16 Inch  Black  16GB  Windows 11 Home   \n",
            "3  Intel Core i9       1000.0      16 Inch  Black  16GB  Windows 11 Home   \n",
            "4  Intel Core i9       1000.0      16 Inch  Black   8GB  Windows 11 Home   \n",
            "\n",
            "   Brand       Tipe Layar       Harga Jenis VGA Tier VGA Tier Processor  \n",
            "0  Razer  Non Touchscreen  94799000.0    NVIDIA        1              1  \n",
            "1  Razer  Non Touchscreen  84899000.0    NVIDIA        1              1  \n",
            "2  Razer  Non Touchscreen  66999000.0    NVIDIA        1              1  \n",
            "3  Razer  Non Touchscreen  66999000.0    NVIDIA        1              1  \n",
            "4  Razer  Non Touchscreen  51999000.0    NVIDIA        1              1  \n"
          ]
        }
      ]
    },
    {
      "cell_type": "code",
      "source": [
        "import pandas as pd\n",
        "import numpy as np\n",
        "import matplotlib.pyplot as plt\n",
        "import seaborn as sns\n",
        "from sklearn.model_selection import train_test_split\n",
        "from sklearn.preprocessing import StandardScaler, LabelEncoder\n",
        "from sklearn.svm import SVC\n",
        "from sklearn.ensemble import RandomForestClassifier\n",
        "from sklearn.metrics import confusion_matrix, classification_report, accuracy_score\n",
        "from sklearn.linear_model import LinearRegression\n",
        "from sklearn.svm import SVR\n",
        "from sklearn.metrics import mean_absolute_error, mean_squared_error, r2_score"
      ],
      "metadata": {
        "id": "rinnWGx-r9Gs"
      },
      "execution_count": 7,
      "outputs": []
    },
    {
      "cell_type": "code",
      "source": [
        "df = pd.read_csv('laptop_final_processed.csv')"
      ],
      "metadata": {
        "id": "YUYFckW9r_wB"
      },
      "execution_count": 8,
      "outputs": []
    },
    {
      "cell_type": "code",
      "source": [
        "vga_score = {\n",
        "    '1': 50,\n",
        "    '2': 30,\n",
        "    '3': 10,\n",
        "    'Unknown Tier': 5\n",
        "}\n",
        "\n",
        "processor_score = {\n",
        "    '1': 50,\n",
        "    '2': 30,\n",
        "    '3': 10,\n",
        "    '4': 5,\n",
        "    'Unknown Tier': 5\n",
        "}\n",
        "\n",
        "df['RAM_Numeric'] = df['RAM'].str.replace('GB', '').astype(int)\n",
        "\n",
        "df['Skor Laptop'] = (\n",
        "    df['Tier VGA'].map(vga_score).fillna(5) +\n",
        "    df['Tier Processor'].map(processor_score).fillna(5) +\n",
        "    np.minimum(df['Penyimpanan'] / 100, 20) +\n",
        "    np.minimum(df['RAM_Numeric'] / 4, 20) +\n",
        "    np.maximum(20 - (df['Harga'] / df['Harga'].max() * 20), 0)\n",
        ")"
      ],
      "metadata": {
        "id": "v1HqNJ7zsCvy"
      },
      "execution_count": 9,
      "outputs": []
    },
    {
      "cell_type": "code",
      "source": [
        "df['Kelas Laptop'] = pd.cut(\n",
        "    df['Skor Laptop'],\n",
        "    bins=[-float('inf'), 29, 50, float('inf')],\n",
        "    labels=['Low', 'Mid', 'High']\n",
        ")"
      ],
      "metadata": {
        "id": "U64Bih4MsIqm"
      },
      "execution_count": 10,
      "outputs": []
    },
    {
      "cell_type": "code",
      "source": [
        "le = LabelEncoder()\n",
        "df['Kelas_Encoded'] = le.fit_transform(df['Kelas Laptop'])\n",
        "\n",
        "X = df[['Penyimpanan', 'RAM_Numeric', 'Harga']]\n",
        "y_class = df['Kelas_Encoded']\n",
        "y_score = df['Skor Laptop']\n",
        "\n",
        "scaler = StandardScaler()\n",
        "X_scaled = scaler.fit_transform(X)\n",
        "\n",
        "X_train_class, X_test_class, y_train_class, y_test_class = train_test_split(\n",
        "    X_scaled, y_class, test_size=0.2, random_state=42\n",
        ")\n",
        "X_train_score, X_test_score, y_train_score, y_test_score = train_test_split(\n",
        "    X_scaled, y_score, test_size=0.2, random_state=42\n",
        ")"
      ],
      "metadata": {
        "id": "74-tO8jJsKCt"
      },
      "execution_count": 11,
      "outputs": []
    },
    {
      "cell_type": "code",
      "source": [
        "svc = SVC(kernel='rbf', random_state=42)\n",
        "svc.fit(X_train_class, y_train_class)\n",
        "y_pred_svc = svc.predict(X_test_class)\n",
        "\n",
        "print(\"Support Vector Classifier Evaluation:\")\n",
        "print(classification_report(y_test_class, y_pred_svc))\n",
        "\n",
        "cm = confusion_matrix(y_test_class, y_pred_svc)\n",
        "plt.figure(figsize=(8, 6))\n",
        "sns.heatmap(cm, annot=True, fmt='d', cmap='Blues',\n",
        "            xticklabels=le.classes_, yticklabels=le.classes_)\n",
        "plt.title('Confusion Matrix - SVC')\n",
        "plt.xlabel('Predicted Label')\n",
        "plt.ylabel('True Label')\n",
        "plt.tight_layout()\n",
        "plt.show()"
      ],
      "metadata": {
        "colab": {
          "base_uri": "https://localhost:8080/",
          "height": 781
        },
        "id": "5AXD60iasOt1",
        "outputId": "38d3e07f-c8d3-4481-d939-1d222f9d7c08"
      },
      "execution_count": 12,
      "outputs": [
        {
          "output_type": "stream",
          "name": "stdout",
          "text": [
            "Support Vector Classifier Evaluation:\n",
            "              precision    recall  f1-score   support\n",
            "\n",
            "           0       1.00      1.00      1.00         2\n",
            "           1       1.00      1.00      1.00       128\n",
            "\n",
            "    accuracy                           1.00       130\n",
            "   macro avg       1.00      1.00      1.00       130\n",
            "weighted avg       1.00      1.00      1.00       130\n",
            "\n"
          ]
        },
        {
          "output_type": "display_data",
          "data": {
            "text/plain": [
              "<Figure size 800x600 with 2 Axes>"
            ],
            "image/png": "[encoded data removed]"
          },
          "metadata": {}
        }
      ]
    },
    {
      "cell_type": "code",
      "source": [
        "rf_classifier = RandomForestClassifier(n_estimators=100, random_state=42)\n",
        "rf_classifier.fit(X_train_class, y_train_class)\n",
        "y_pred_rf = rf_classifier.predict(X_test_class)\n",
        "\n",
        "print(\"\\nRandom Forest Classifier Evaluation:\")\n",
        "print(classification_report(y_test_class, y_pred_rf))\n"
      ],
      "metadata": {
        "colab": {
          "base_uri": "https://localhost:8080/"
        },
        "id": "9-ESrXOwsRro",
        "outputId": "8c2f1f05-e7cd-4311-c170-26eb26512adc"
      },
      "execution_count": 13,
      "outputs": [
        {
          "output_type": "stream",
          "name": "stdout",
          "text": [
            "\n",
            "Random Forest Classifier Evaluation:\n",
            "              precision    recall  f1-score   support\n",
            "\n",
            "           0       0.50      1.00      0.67         2\n",
            "           1       1.00      0.98      0.99       128\n",
            "\n",
            "    accuracy                           0.98       130\n",
            "   macro avg       0.75      0.99      0.83       130\n",
            "weighted avg       0.99      0.98      0.99       130\n",
            "\n"
          ]
        }
      ]
    },
    {
      "cell_type": "code",
      "source": [
        "lr = LinearRegression()\n",
        "lr.fit(X_train_score, y_train_score)\n",
        "y_pred_lr = lr.predict(X_test_score)\n",
        "\n",
        "mae = mean_absolute_error(y_test_score, y_pred_lr)\n",
        "mse = mean_squared_error(y_test_score, y_pred_lr)\n",
        "rmse = np.sqrt(mse)\n",
        "r2 = r2_score(y_test_score, y_pred_lr)\n",
        "\n",
        "print(\"\\nLinear Regression Evaluation:\")\n",
        "print(f\"MAE: {mae}\")\n",
        "print(f\"MSE: {mse}\")\n",
        "print(f\"RMSE: {rmse}\")\n",
        "print(f\"R2 Score: {r2}\")"
      ],
      "metadata": {
        "colab": {
          "base_uri": "https://localhost:8080/"
        },
        "id": "tzBPqljXsTDF",
        "outputId": "0ca30386-a36e-47af-8663-6d82e4e94c09"
      },
      "execution_count": 14,
      "outputs": [
        {
          "output_type": "stream",
          "name": "stdout",
          "text": [
            "\n",
            "Linear Regression Evaluation:\n",
            "MAE: 0.7083963659097099\n",
            "MSE: 0.9589456991129096\n",
            "RMSE: 0.9792577286459931\n",
            "R2 Score: 0.9544564239420992\n"
          ]
        }
      ]
    },
    {
      "cell_type": "code",
      "source": [
        "svr = SVR(kernel='rbf')\n",
        "svr.fit(X_train_score, y_train_score)\n",
        "y_pred_svr = svr.predict(X_test_score)\n",
        "\n",
        "mae_svr = mean_absolute_error(y_test_score, y_pred_svr)\n",
        "mse_svr = mean_squared_error(y_test_score, y_pred_svr)\n",
        "rmse_svr = np.sqrt(mse_svr)\n",
        "r2_svr = r2_score(y_test_score, y_pred_svr)\n",
        "\n",
        "print(\"\\nSupport Vector Regression Evaluation:\")\n",
        "print(f\"MAE: {mae_svr}\")\n",
        "print(f\"MSE: {mse_svr}\")\n",
        "print(f\"RMSE: {rmse_svr}\")\n",
        "print(f\"R2 Score: {r2_svr}\")"
      ],
      "metadata": {
        "colab": {
          "base_uri": "https://localhost:8080/"
        },
        "id": "RMYxJWPksXRt",
        "outputId": "9478e4e4-0591-46c5-bd07-d11a18e03073"
      },
      "execution_count": 15,
      "outputs": [
        {
          "output_type": "stream",
          "name": "stdout",
          "text": [
            "\n",
            "Support Vector Regression Evaluation:\n",
            "MAE: 0.14544853801556992\n",
            "MSE: 0.11891322430095498\n",
            "RMSE: 0.3448379681835441\n",
            "R2 Score: 0.9943524086084846\n"
          ]
        }
      ]
    },
    {
      "cell_type": "code",
      "source": [
        "plt.figure(figsize=(10, 6))\n",
        "plt.scatter(y_test_score, y_pred_lr, color='blue', label='Linear Regression')\n",
        "plt.scatter(y_test_score, y_test_score, color='red', label='Actual')\n",
        "plt.title('Prediksi vs Aktual Skor Laptop')\n",
        "plt.xlabel('Skor Laptop Aktual')\n",
        "plt.ylabel('Skor Laptop Prediksi')\n",
        "plt.legend()\n",
        "plt.tight_layout()\n",
        "plt.show()\n"
      ],
      "metadata": {
        "colab": {
          "base_uri": "https://localhost:8080/",
          "height": 607
        },
        "id": "3LRf7w1usYIj",
        "outputId": "0e1e713d-965d-42d6-d15d-680a293ef720"
      },
      "execution_count": 16,
      "outputs": [
        {
          "output_type": "display_data",
          "data": {
            "text/plain": [
              "<Figure size 1000x600 with 1 Axes>"
            ],
            "image/png": "[encoded data removed]"
          },
          "metadata": {}
        }
      ]
    },
    {
      "cell_type": "code",
      "source": [
        "print(\"\\nDistribusi Kelas Laptop:\")\n",
        "print(df['Kelas Laptop'].value_counts(normalize=True) * 100)\n",
        "\n",
        "df.to_csv('laptop_final_with_scoring.csv', index=False)\n",
        "print(\"\\nDataset final disimpan di: laptop_final_with_scoring.csv\")"
      ],
      "metadata": {
        "colab": {
          "base_uri": "https://localhost:8080/"
        },
        "id": "qR85kpw1sZja",
        "outputId": "39ac538a-3d41-4c71-baf5-2c0c52c249bb"
      },
      "execution_count": 17,
      "outputs": [
        {
          "output_type": "stream",
          "name": "stdout",
          "text": [
            "\n",
            "Distribusi Kelas Laptop:\n",
            "Kelas Laptop\n",
            "Mid     95.510836\n",
            "High     4.489164\n",
            "Low      0.000000\n",
            "Name: proportion, dtype: float64\n",
            "\n",
            "Dataset final disimpan di: laptop_final_with_scoring.csv\n"
          ]
        }
      ]
    },
    {
      "cell_type": "code",
      "source": [
        "from keras.models import Sequential\n",
        "from keras.layers import Dense, Dropout\n",
        "from keras.utils import to_categorical\n",
        "from sklearn.model_selection import train_test_split\n",
        "from sklearn.preprocessing import LabelEncoder, StandardScaler\n",
        "import matplotlib.pyplot as plt\n",
        "from tensorflow.keras.utils import to_categorical"
      ],
      "metadata": {
        "id": "qitTM3dIutQn"
      },
      "execution_count": 41,
      "outputs": []
    },
    {
      "cell_type": "code",
      "source": [
        "df = pd.read_csv('laptop_final_with_scoring.csv')\n",
        "X = df[['Penyimpanan', 'RAM_Numeric', 'Harga', 'Tier VGA', 'Tier Processor']]\n",
        "y = df['Kelas Laptop']"
      ],
      "metadata": {
        "id": "HeR0mbOEuus4"
      },
      "execution_count": 30,
      "outputs": []
    },
    {
      "cell_type": "code",
      "source": [
        "y_encoded = pd.get_dummies(y)\n",
        "scaler = StandardScaler()\n",
        "X_scaled = scaler.fit_transform(X)"
      ],
      "metadata": {
        "id": "NDm9wSpVu02-"
      },
      "execution_count": 31,
      "outputs": []
    },
    {
      "cell_type": "code",
      "source": [
        "X_train, X_val, y_train, y_val = train_test_split(X_scaled, y_encoded, test_size=0.2, random_state=42)"
      ],
      "metadata": {
        "id": "SI3jDCFwu0sy"
      },
      "execution_count": 32,
      "outputs": []
    },
    {
      "cell_type": "code",
      "source": [
        "model = Sequential()\n",
        "model.add(Dense(64, input_dim=X_train.shape[1], activation='relu'))\n",
        "model.add(Dropout(0.2))\n",
        "model.add(Dense(64, activation='relu'))\n",
        "model.add(Dropout(0.2))\n",
        "model.add(Dense(3, activation='softmax'))\n"
      ],
      "metadata": {
        "colab": {
          "base_uri": "https://localhost:8080/"
        },
        "id": "rHXbZ-Jvu8y-",
        "outputId": "27721b45-337e-4720-e783-f815359a243c"
      },
      "execution_count": 33,
      "outputs": [
        {
          "output_type": "stream",
          "name": "stderr",
          "text": [
            "/usr/local/lib/python3.10/dist-packages/keras/src/layers/core/dense.py:87: UserWarning: Do not pass an `input_shape`/`input_dim` argument to a layer. When using Sequential models, prefer using an `Input(shape)` object as the first layer in the model instead.\n",
            "  super().__init__(activity_regularizer=activity_regularizer, **kwargs)\n"
          ]
        }
      ]
    },
    {
      "cell_type": "code",
      "source": [
        "y_train_one_hot = to_categorical(y_train, num_classes=3)\n",
        "y_val_one_hot = to_categorical(y_val, num_classes=3)\n",
        "print(f\"Shape of y_train_one_hot: {y_train_one_hot.shape}\")\n",
        "print(f\"Shape of y_val_one_hot: {y_val_one_hot.shape}\")\n",
        "\n",
        "model.compile(optimizer='adam', loss='categorical_crossentropy', metrics=['accuracy'])\n",
        "history = model.fit(\n",
        "    X_train, y_train_one_hot,\n",
        "    validation_data=(X_val, y_val_one_hot),\n",
        "    epochs=50,\n",
        "    batch_size=32,\n",
        "    verbose=1\n",
        ")\n",
        "train_acc = history.history['accuracy'][-1]\n",
        "val_acc = history.history['val_accuracy'][-1]\n",
        "print(f\"Training Accuracy: {train_acc * 100:.2f}%\")\n",
        "print(f\"Validation Accuracy: {val_acc * 100:.2f}%\")\n"
      ],
      "metadata": {
        "id": "uklKlDKFwXY5"
      },
      "execution_count": null,
      "outputs": []
    },
    {
      "cell_type": "code",
      "source": [
        "plt.figure(figsize=(12, 6))"
      ],
      "metadata": {
        "colab": {
          "base_uri": "https://localhost:8080/",
          "height": 52
        },
        "id": "U9TXYD31vkbR",
        "outputId": "e89ba5a1-38a3-4395-e2ad-ca65ac7f8b9b"
      },
      "execution_count": 36,
      "outputs": [
        {
          "output_type": "execute_result",
          "data": {
            "text/plain": [
              "<Figure size 1200x600 with 0 Axes>"
            ]
          },
          "metadata": {},
          "execution_count": 36
        },
        {
          "output_type": "display_data",
          "data": {
            "text/plain": [
              "<Figure size 1200x600 with 0 Axes>"
            ]
          },
          "metadata": {}
        }
      ]
    },
    {
      "cell_type": "code",
      "source": [
        "plt.subplot(1, 2, 1)\n",
        "plt.plot(history.history['accuracy'], label='Training Accuracy')\n",
        "plt.plot(history.history['val_accuracy'], label='Validation Accuracy')\n",
        "plt.title('Model Accuracy')\n",
        "plt.xlabel('Epochs')\n",
        "plt.ylabel('Accuracy')\n",
        "plt.legend()"
      ],
      "metadata": {
        "colab": {
          "base_uri": "https://localhost:8080/",
          "height": 629
        },
        "id": "GZ1ofqvdvlyT",
        "outputId": "01723c6b-7bd1-4407-ccdb-fbfccc625aa6"
      },
      "execution_count": 37,
      "outputs": [
        {
          "output_type": "error",
          "ename": "NameError",
          "evalue": "name 'history' is not defined",
          "traceback": [
            "\u001b[0;31m---------------------------------------------------------------------------\u001b[0m",
            "\u001b[0;31mNameError\u001b[0m                                 Traceback (most recent call last)",
            "\u001b[0;32m<ipython-input-37-adc87bf626c2>\u001b[0m in \u001b[0;36m<cell line: 2>\u001b[0;34m()\u001b[0m\n\u001b[1;32m      1\u001b[0m \u001b[0mplt\u001b[0m\u001b[0;34m.\u001b[0m\u001b[0msubplot\u001b[0m\u001b[0;34m(\u001b[0m\u001b[0;36m1\u001b[0m\u001b[0;34m,\u001b[0m \u001b[0;36m2\u001b[0m\u001b[0;34m,\u001b[0m \u001b[0;36m1\u001b[0m\u001b[0;34m)\u001b[0m\u001b[0;34m\u001b[0m\u001b[0;34m\u001b[0m\u001b[0m\n\u001b[0;32m----> 2\u001b[0;31m \u001b[0mplt\u001b[0m\u001b[0;34m.\u001b[0m\u001b[0mplot\u001b[0m\u001b[0;34m(\u001b[0m\u001b[0mhistory\u001b[0m\u001b[0;34m.\u001b[0m\u001b[0mhistory\u001b[0m\u001b[0;34m[\u001b[0m\u001b[0;34m'accuracy'\u001b[0m\u001b[0;34m]\u001b[0m\u001b[0;34m,\u001b[0m \u001b[0mlabel\u001b[0m\u001b[0;34m=\u001b[0m\u001b[0;34m'Training Accuracy'\u001b[0m\u001b[0;34m)\u001b[0m\u001b[0;34m\u001b[0m\u001b[0;34m\u001b[0m\u001b[0m\n\u001b[0m\u001b[1;32m      3\u001b[0m \u001b[0mplt\u001b[0m\u001b[0;34m.\u001b[0m\u001b[0mplot\u001b[0m\u001b[0;34m(\u001b[0m\u001b[0mhistory\u001b[0m\u001b[0;34m.\u001b[0m\u001b[0mhistory\u001b[0m\u001b[0;34m[\u001b[0m\u001b[0;34m'val_accuracy'\u001b[0m\u001b[0;34m]\u001b[0m\u001b[0;34m,\u001b[0m \u001b[0mlabel\u001b[0m\u001b[0;34m=\u001b[0m\u001b[0;34m'Validation Accuracy'\u001b[0m\u001b[0;34m)\u001b[0m\u001b[0;34m\u001b[0m\u001b[0;34m\u001b[0m\u001b[0m\n\u001b[1;32m      4\u001b[0m \u001b[0mplt\u001b[0m\u001b[0;34m.\u001b[0m\u001b[0mtitle\u001b[0m\u001b[0;34m(\u001b[0m\u001b[0;34m'Model Accuracy'\u001b[0m\u001b[0;34m)\u001b[0m\u001b[0;34m\u001b[0m\u001b[0;34m\u001b[0m\u001b[0m\n\u001b[1;32m      5\u001b[0m \u001b[0mplt\u001b[0m\u001b[0;34m.\u001b[0m\u001b[0mxlabel\u001b[0m\u001b[0;34m(\u001b[0m\u001b[0;34m'Epochs'\u001b[0m\u001b[0;34m)\u001b[0m\u001b[0;34m\u001b[0m\u001b[0;34m\u001b[0m\u001b[0m\n",
            "\u001b[0;31mNameError\u001b[0m: name 'history' is not defined"
          ]
        },
        {
          "output_type": "display_data",
          "data": {
            "text/plain": [
              "<Figure size 640x480 with 1 Axes>"
            ],
            "image/png": "[encoded data removed]"
          },
          "metadata": {}
        }
      ]
    },
    {
      "cell_type": "code",
      "source": [
        "plt.subplot(1, 2, 2)\n",
        "plt.plot(history.history['loss'], label='Training Loss')\n",
        "plt.plot(history.history['val_loss'], label='Validation Loss')\n",
        "plt.title('Model Loss')\n",
        "plt.xlabel('Epochs')\n",
        "plt.ylabel('Loss')\n",
        "plt.legend()\n",
        "\n",
        "plt.tight_layout()\n",
        "plt.show()"
      ],
      "metadata": {
        "colab": {
          "base_uri": "https://localhost:8080/",
          "height": 629
        },
        "id": "661y8XzAvnCD",
        "outputId": "b9fe2878-627f-439a-a8ec-cd713e812586"
      },
      "execution_count": 38,
      "outputs": [
        {
          "output_type": "error",
          "ename": "NameError",
          "evalue": "name 'history' is not defined",
          "traceback": [
            "\u001b[0;31m---------------------------------------------------------------------------\u001b[0m",
            "\u001b[0;31mNameError\u001b[0m                                 Traceback (most recent call last)",
            "\u001b[0;32m<ipython-input-38-a8e1ed6840aa>\u001b[0m in \u001b[0;36m<cell line: 2>\u001b[0;34m()\u001b[0m\n\u001b[1;32m      1\u001b[0m \u001b[0mplt\u001b[0m\u001b[0;34m.\u001b[0m\u001b[0msubplot\u001b[0m\u001b[0;34m(\u001b[0m\u001b[0;36m1\u001b[0m\u001b[0;34m,\u001b[0m \u001b[0;36m2\u001b[0m\u001b[0;34m,\u001b[0m \u001b[0;36m2\u001b[0m\u001b[0;34m)\u001b[0m\u001b[0;34m\u001b[0m\u001b[0;34m\u001b[0m\u001b[0m\n\u001b[0;32m----> 2\u001b[0;31m \u001b[0mplt\u001b[0m\u001b[0;34m.\u001b[0m\u001b[0mplot\u001b[0m\u001b[0;34m(\u001b[0m\u001b[0mhistory\u001b[0m\u001b[0;34m.\u001b[0m\u001b[0mhistory\u001b[0m\u001b[0;34m[\u001b[0m\u001b[0;34m'loss'\u001b[0m\u001b[0;34m]\u001b[0m\u001b[0;34m,\u001b[0m \u001b[0mlabel\u001b[0m\u001b[0;34m=\u001b[0m\u001b[0;34m'Training Loss'\u001b[0m\u001b[0;34m)\u001b[0m\u001b[0;34m\u001b[0m\u001b[0;34m\u001b[0m\u001b[0m\n\u001b[0m\u001b[1;32m      3\u001b[0m \u001b[0mplt\u001b[0m\u001b[0;34m.\u001b[0m\u001b[0mplot\u001b[0m\u001b[0;34m(\u001b[0m\u001b[0mhistory\u001b[0m\u001b[0;34m.\u001b[0m\u001b[0mhistory\u001b[0m\u001b[0;34m[\u001b[0m\u001b[0;34m'val_loss'\u001b[0m\u001b[0;34m]\u001b[0m\u001b[0;34m,\u001b[0m \u001b[0mlabel\u001b[0m\u001b[0;34m=\u001b[0m\u001b[0;34m'Validation Loss'\u001b[0m\u001b[0;34m)\u001b[0m\u001b[0;34m\u001b[0m\u001b[0;34m\u001b[0m\u001b[0m\n\u001b[1;32m      4\u001b[0m \u001b[0mplt\u001b[0m\u001b[0;34m.\u001b[0m\u001b[0mtitle\u001b[0m\u001b[0;34m(\u001b[0m\u001b[0;34m'Model Loss'\u001b[0m\u001b[0;34m)\u001b[0m\u001b[0;34m\u001b[0m\u001b[0;34m\u001b[0m\u001b[0m\n\u001b[1;32m      5\u001b[0m \u001b[0mplt\u001b[0m\u001b[0;34m.\u001b[0m\u001b[0mxlabel\u001b[0m\u001b[0;34m(\u001b[0m\u001b[0;34m'Epochs'\u001b[0m\u001b[0;34m)\u001b[0m\u001b[0;34m\u001b[0m\u001b[0;34m\u001b[0m\u001b[0m\n",
            "\u001b[0;31mNameError\u001b[0m: name 'history' is not defined"
          ]
        },
        {
          "output_type": "display_data",
          "data": {
            "text/plain": [
              "<Figure size 640x480 with 1 Axes>"
            ],
            "image/png": "[encoded data removed]"
          },
          "metadata": {}
        }
      ]
    }
  ]
}