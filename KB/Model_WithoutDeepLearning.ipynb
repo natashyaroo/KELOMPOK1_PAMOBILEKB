{
  "nbformat": 4,
  "nbformat_minor": 0,
  "metadata": {
    "colab": {
      "provenance": [],
      "gpuType": "T4"
    },
    "kernelspec": {
      "name": "python3",
      "display_name": "Python 3"
    },
    "language_info": {
      "name": "python"
    },
    "accelerator": "GPU"
  },
  "cells": [
    {
      "cell_type": "code",
      "source": [
        "import pandas as pd\n",
        "import numpy as np\n",
        "import matplotlib.pyplot as plt\n",
        "import seaborn as sns"
      ],
      "metadata": {
        "id": "ZzyNK4owzpW9"
      },
      "execution_count": 1,
      "outputs": []
    },
    {
      "cell_type": "code",
      "source": [
        "input_path = 'kliknklik_gaming_laptop.csv'\n",
        "output_path = 'laptop_final_processed.csv'\n",
        "df = pd.read_csv(input_path)\n"
      ],
      "metadata": {
        "id": "-K6anNpUuO0z"
      },
      "execution_count": 2,
      "outputs": []
    },
    {
      "cell_type": "code",
      "source": [
        "\n",
        "columns_to_drop = [\"Keyboard\", \"Microsoft Office\"]\n",
        "df_cleaned = df.drop(columns=[col for col in columns_to_drop if col in df.columns], errors='ignore')\n",
        "\n",
        "print(\"Missing Values Before Handling:\")\n",
        "print(df_cleaned.isnull().sum())\n",
        "\n",
        "numeric_cols = df_cleaned.select_dtypes(include=['float64', 'int64']).columns\n",
        "categorical_cols = df_cleaned.select_dtypes(include=['object']).columns\n",
        "\n",
        "for col in numeric_cols:\n",
        "    df_cleaned[col] = df_cleaned[col].fillna(df_cleaned[col].median())\n",
        "\n",
        "for col in categorical_cols:\n",
        "    df_cleaned[col] = df_cleaned[col].fillna(df_cleaned[col].mode()[0])\n",
        "\n",
        "print(\"\\nMissing Values After Handling:\")\n",
        "print(df_cleaned.isnull().sum())\n",
        "\n",
        "print(f\"\\nTotal rows before removing duplicates: {len(df_cleaned)}\")\n",
        "df_cleaned = df_cleaned.drop_duplicates()\n",
        "print(f\"Total rows after removing duplicates: {len(df_cleaned)}\")\n"
      ],
      "metadata": {
        "colab": {
          "base_uri": "https://localhost:8080/"
        },
        "id": "NxgxGuRauRit",
        "outputId": "869dcee8-85a4-438d-ec75-834e9fab13e8"
      },
      "execution_count": 3,
      "outputs": [
        {
          "output_type": "stream",
          "name": "stdout",
          "text": [
            "Missing Values Before Handling:\n",
            "Nama                0\n",
            "Berat               0\n",
            "Dimensi             0\n",
            "Garansi             4\n",
            "VGA                 0\n",
            "Tipe Penyimpanan    0\n",
            "Processor           0\n",
            "Penyimpanan         0\n",
            "Ukuran Layar        0\n",
            "Warna               0\n",
            "RAM                 0\n",
            "Sistem Operasi      0\n",
            "Brand               0\n",
            "Tipe Layar          0\n",
            "Harga               0\n",
            "dtype: int64\n",
            "\n",
            "Missing Values After Handling:\n",
            "Nama                0\n",
            "Berat               0\n",
            "Dimensi             0\n",
            "Garansi             0\n",
            "VGA                 0\n",
            "Tipe Penyimpanan    0\n",
            "Processor           0\n",
            "Penyimpanan         0\n",
            "Ukuran Layar        0\n",
            "Warna               0\n",
            "RAM                 0\n",
            "Sistem Operasi      0\n",
            "Brand               0\n",
            "Tipe Layar          0\n",
            "Harga               0\n",
            "dtype: int64\n",
            "\n",
            "Total rows before removing duplicates: 646\n",
            "Total rows after removing duplicates: 646\n"
          ]
        }
      ]
    },
    {
      "cell_type": "code",
      "source": [
        "plt.figure(figsize=(15, 10))\n",
        "for i, col in enumerate(numeric_cols, 1):\n",
        "    plt.subplot(2, 3, i)\n",
        "    sns.boxplot(x=df_cleaned[col])\n",
        "    plt.title(f'Boxplot {col}')\n",
        "plt.tight_layout()\n",
        "plt.show()\n",
        "\n",
        "for col in numeric_cols:\n",
        "    Q1 = df_cleaned[col].quantile(0.25)\n",
        "    Q3 = df_cleaned[col].quantile(0.75)\n",
        "    IQR = Q3 - Q1\n",
        "    lower_bound = Q1 - 1.5 * IQR\n",
        "    upper_bound = Q3 + 1.5 * IQR\n",
        "\n",
        "    df_before = len(df_cleaned)\n",
        "    df_cleaned = df_cleaned[(df_cleaned[col] >= lower_bound) & (df_cleaned[col] <= upper_bound)]\n",
        "    df_after = len(df_cleaned)\n",
        "    print(f\"Outliers in {col}: {df_before - df_after} rows removed\")\n"
      ],
      "metadata": {
        "colab": {
          "base_uri": "https://localhost:8080/",
          "height": 34
        },
        "id": "8hXbwHGhuTt0",
        "outputId": "a195aa84-d40f-4ad1-f06c-af5e01e6d7df"
      },
      "execution_count": 4,
      "outputs": [
        {
          "output_type": "display_data",
          "data": {
            "text/plain": [
              "<Figure size 1500x1000 with 0 Axes>"
            ]
          },
          "metadata": {}
        }
      ]
    },
    {
      "cell_type": "code",
      "source": [
        "if 'Berat' in df_cleaned.columns:\n",
        "    df_cleaned['Berat'] = df_cleaned['Berat'].str.replace('kg', '').astype(float)\n",
        "\n",
        "\n",
        "if 'Dimensi' in df_cleaned.columns:\n",
        "    df_cleaned['Dimensi'] = df_cleaned['Dimensi'].str.replace(r'[^\\d\\.x]', '', regex=True)\n",
        "\n",
        "\n",
        "if 'Penyimpanan' in df_cleaned.columns:\n",
        "    df_cleaned['Penyimpanan'] = df_cleaned['Penyimpanan'].str.replace('TB', '000').str.replace('GB', '').astype(float)\n",
        "\n",
        "if 'Harga' in df_cleaned.columns:\n",
        "    df_cleaned['Harga'] = (\n",
        "        df_cleaned['Harga']\n",
        "        .str.replace('Rp', '', regex=True)\n",
        "        .str.replace('[^0-9]', '', regex=True)\n",
        "        .astype(float)\n",
        "    )"
      ],
      "metadata": {
        "id": "bybzlFNnuWUe"
      },
      "execution_count": 5,
      "outputs": []
    },
    {
      "cell_type": "code",
      "source": [
        "if 'VGA' in df_cleaned.columns:\n",
        "    df_cleaned['VGA'] = df_cleaned['VGA'].astype(str)\n",
        "    df_cleaned['Jenis VGA'] = df_cleaned['VGA'].str.extract(r'(?i)(NVIDIA|AMD|Intel|GeForce|Radeon|RTX|GTX|Intel Iris|Intel UHD)')\n",
        "\n",
        "    df_cleaned['Tier VGA'] = df_cleaned['VGA'].apply(lambda vga_name: (\n",
        "        \"1\" if \"rtx\" in vga_name.lower() else\n",
        "        \"2\" if \"gtx\" in vga_name.lower() or \"rx\" in vga_name.lower() else\n",
        "        \"3\" if \"mx\" in vga_name.lower() or \"intel iris\" in vga_name.lower() or \"radeon rx 5\" in vga_name.lower() or \"amd radeon\" in vga_name.lower() else\n",
        "        \"Unknown Tier\"\n",
        "    ))\n",
        "\n",
        "if 'Processor' in df_cleaned.columns:\n",
        "    df_cleaned['Tier Processor'] = df_cleaned['Processor'].apply(lambda processor_name: (\n",
        "        \"1\" if any(x in processor_name.lower() for x in [\"i9\", \"ryzen 9\", \"i7\", \"ryzen 7\"]) else\n",
        "        \"2\" if any(x in processor_name.lower() for x in [\"i5\", \"ryzen 5\"]) else\n",
        "        \"3\" if any(x in processor_name.lower() for x in [\"i3\", \"ryzen 3\"]) else\n",
        "        \"4\" if any(x in processor_name.lower() for x in [\"celeron\", \"pentium\"]) else\n",
        "        \"Unknown Tier\"\n",
        "    ))\n",
        "\n",
        "df_cleaned.to_csv(output_path, index=False)\n",
        "print(f\"\\nFinal dataset saved to: {output_path}\")\n",
        "print(\"\\nSample Data:\")\n",
        "print(df_cleaned.head())\n"
      ],
      "metadata": {
        "colab": {
          "base_uri": "https://localhost:8080/"
        },
        "id": "v8bJ4PcYuY-4",
        "outputId": "e412d743-e2ed-49a6-f0ef-d4ec2dd598bb"
      },
      "execution_count": 6,
      "outputs": [
        {
          "output_type": "stream",
          "name": "stdout",
          "text": [
            "\n",
            "Final dataset saved to: laptop_final_processed.csv\n",
            "\n",
            "Sample Data:\n",
            "                                                Nama  Berat Dimensi  \\\n",
            "0  RAZER BLADE ADVANCE 18 INTEL I9 13950HX 64GB D...    5.0  402010   \n",
            "1  RAZER BLADE ADVANCE 18 INTEL I9 13950HX 32GB D...    5.0  402010   \n",
            "2  RAZER BLADE ADVANCE 16 INTEL I9 13950HX 32GB D...    5.0  402010   \n",
            "3  RAZER BLADE ADVANCE 16 INTEL I9 13950HX 32GB D...    5.0  402010   \n",
            "4  RAZER BLADE ADVANCE 16 INTEL I9 13950HX 16GB D...    5.0  402010   \n",
            "\n",
            "                              Garansi             VGA Tipe Penyimpanan  \\\n",
            "0  RAZER 1 YEAR (SERVICE & SPAREPART)  NVIDIA RTX4090              SSD   \n",
            "1  RAZER 1 YEAR (SERVICE & SPAREPART)  NVIDIA RTX4090              SSD   \n",
            "2  RAZER 1 YEAR (SERVICE & SPAREPART)  NVIDIA RTX4090              SSD   \n",
            "3  RAZER 1 YEAR (SERVICE & SPAREPART)  NVIDIA RTX4080              SSD   \n",
            "4  RAZER 1 YEAR (SERVICE & SPAREPART)  NVIDIA RTX4070              SSD   \n",
            "\n",
            "       Processor  Penyimpanan Ukuran Layar  Warna   RAM   Sistem Operasi  \\\n",
            "0  Intel Core i9       2000.0      18 Inch  Black  16GB  Windows 11 Home   \n",
            "1  Intel Core i9       2000.0      18 Inch  Black  16GB  Windows 11 Home   \n",
            "2  Intel Core i9       2000.0      16 Inch  Black  16GB  Windows 11 Home   \n",
            "3  Intel Core i9       1000.0      16 Inch  Black  16GB  Windows 11 Home   \n",
            "4  Intel Core i9       1000.0      16 Inch  Black   8GB  Windows 11 Home   \n",
            "\n",
            "   Brand       Tipe Layar       Harga Jenis VGA Tier VGA Tier Processor  \n",
            "0  Razer  Non Touchscreen  94799000.0    NVIDIA        1              1  \n",
            "1  Razer  Non Touchscreen  84899000.0    NVIDIA        1              1  \n",
            "2  Razer  Non Touchscreen  66999000.0    NVIDIA        1              1  \n",
            "3  Razer  Non Touchscreen  66999000.0    NVIDIA        1              1  \n",
            "4  Razer  Non Touchscreen  51999000.0    NVIDIA        1              1  \n"
          ]
        }
      ]
    },
    {
      "cell_type": "code",
      "source": [
        "import pandas as pd\n",
        "import numpy as np\n",
        "import matplotlib.pyplot as plt\n",
        "import seaborn as sns\n",
        "from sklearn.model_selection import train_test_split\n",
        "from sklearn.preprocessing import StandardScaler, LabelEncoder\n",
        "from sklearn.svm import SVC\n",
        "from sklearn.ensemble import RandomForestClassifier\n",
        "from sklearn.metrics import confusion_matrix, classification_report, accuracy_score\n",
        "from sklearn.linear_model import LinearRegression\n",
        "from sklearn.svm import SVR\n",
        "from sklearn.metrics import mean_absolute_error, mean_squared_error, r2_score"
      ],
      "metadata": {
        "id": "rinnWGx-r9Gs"
      },
      "execution_count": 7,
      "outputs": []
    },
    {
      "cell_type": "code",
      "source": [
        "df = pd.read_csv('laptop_final_processed.csv')"
      ],
      "metadata": {
        "id": "YUYFckW9r_wB"
      },
      "execution_count": 8,
      "outputs": []
    },
    {
      "cell_type": "code",
      "source": [
        "vga_score = {\n",
        "    '1': 50,\n",
        "    '2': 30,\n",
        "    '3': 10,\n",
        "    'Unknown Tier': 5\n",
        "}\n",
        "\n",
        "processor_score = {\n",
        "    '1': 50,\n",
        "    '2': 30,\n",
        "    '3': 10,\n",
        "    '4': 5,\n",
        "    'Unknown Tier': 5\n",
        "}\n",
        "\n",
        "df['RAM_Numeric'] = df['RAM'].str.replace('GB', '').astype(int)\n",
        "\n",
        "df['Skor Laptop'] = (\n",
        "    df['Tier VGA'].map(vga_score).fillna(5) +\n",
        "    df['Tier Processor'].map(processor_score).fillna(5) +\n",
        "    np.minimum(df['Penyimpanan'] / 100, 20) +\n",
        "    np.minimum(df['RAM_Numeric'] / 4, 20) +\n",
        "    np.maximum(20 - (df['Harga'] / df['Harga'].max() * 20), 0)\n",
        ")"
      ],
      "metadata": {
        "id": "v1HqNJ7zsCvy"
      },
      "execution_count": 9,
      "outputs": []
    },
    {
      "cell_type": "code",
      "source": [
        "df['Kelas Laptop'] = pd.cut(\n",
        "    df['Skor Laptop'],\n",
        "    bins=[-float('inf'), 29, 50, float('inf')],\n",
        "    labels=['Low', 'Mid', 'High']\n",
        ")"
      ],
      "metadata": {
        "id": "U64Bih4MsIqm"
      },
      "execution_count": 10,
      "outputs": []
    },
    {
      "cell_type": "code",
      "source": [
        "le = LabelEncoder()\n",
        "df['Kelas_Encoded'] = le.fit_transform(df['Kelas Laptop'])\n",
        "\n",
        "X = df[['Penyimpanan', 'RAM_Numeric', 'Harga']]\n",
        "y_class = df['Kelas_Encoded']\n",
        "y_score = df['Skor Laptop']\n",
        "\n",
        "scaler = StandardScaler()\n",
        "X_scaled = scaler.fit_transform(X)\n",
        "\n",
        "X_train_class, X_test_class, y_train_class, y_test_class = train_test_split(\n",
        "    X_scaled, y_class, test_size=0.2, random_state=42\n",
        ")\n",
        "X_train_score, X_test_score, y_train_score, y_test_score = train_test_split(\n",
        "    X_scaled, y_score, test_size=0.2, random_state=42\n",
        ")"
      ],
      "metadata": {
        "id": "74-tO8jJsKCt"
      },
      "execution_count": 11,
      "outputs": []
    },
    {
      "cell_type": "code",
      "source": [
        "svc = SVC(kernel='rbf', random_state=42)\n",
        "svc.fit(X_train_class, y_train_class)\n",
        "y_pred_svc = svc.predict(X_test_class)\n",
        "\n",
        "print(\"Support Vector Classifier Evaluation:\")\n",
        "print(classification_report(y_test_class, y_pred_svc))\n",
        "\n",
        "cm = confusion_matrix(y_test_class, y_pred_svc)\n",
        "plt.figure(figsize=(8, 6))\n",
        "sns.heatmap(cm, annot=True, fmt='d', cmap='Blues',\n",
        "            xticklabels=le.classes_, yticklabels=le.classes_)\n",
        "plt.title('Confusion Matrix - SVC')\n",
        "plt.xlabel('Predicted Label')\n",
        "plt.ylabel('True Label')\n",
        "plt.tight_layout()\n",
        "plt.show()"
      ],
      "metadata": {
        "colab": {
          "base_uri": "https://localhost:8080/",
          "height": 781
        },
        "id": "5AXD60iasOt1",
        "outputId": "6146fffe-6e1b-4ad1-ddbb-c61e87bac65d"
      },
      "execution_count": 12,
      "outputs": [
        {
          "output_type": "stream",
          "name": "stdout",
          "text": [
            "Support Vector Classifier Evaluation:\n",
            "              precision    recall  f1-score   support\n",
            "\n",
            "           0       1.00      1.00      1.00         2\n",
            "           1       1.00      1.00      1.00       128\n",
            "\n",
            "    accuracy                           1.00       130\n",
            "   macro avg       1.00      1.00      1.00       130\n",
            "weighted avg       1.00      1.00      1.00       130\n",
            "\n"
          ]
        },
        {
          "output_type": "display_data",
          "data": {
            "text/plain": [
              "<Figure size 800x600 with 2 Axes>"
            ],
            "image/png": "[encoded data removed]"
          },
          "metadata": {}
        }
      ]
    },
    {
      "cell_type": "code",
      "source": [
        "rf_classifier = RandomForestClassifier(n_estimators=100, random_state=42)\n",
        "rf_classifier.fit(X_train_class, y_train_class)\n",
        "y_pred_rf = rf_classifier.predict(X_test_class)\n",
        "\n",
        "print(\"\\nRandom Forest Classifier Evaluation:\")\n",
        "print(classification_report(y_test_class, y_pred_rf))\n"
      ],
      "metadata": {
        "colab": {
          "base_uri": "https://localhost:8080/"
        },
        "id": "9-ESrXOwsRro",
        "outputId": "6ea4f27d-8bfa-463d-c7e5-e35631002147"
      },
      "execution_count": 13,
      "outputs": [
        {
          "output_type": "stream",
          "name": "stdout",
          "text": [
            "\n",
            "Random Forest Classifier Evaluation:\n",
            "              precision    recall  f1-score   support\n",
            "\n",
            "           0       0.50      1.00      0.67         2\n",
            "           1       1.00      0.98      0.99       128\n",
            "\n",
            "    accuracy                           0.98       130\n",
            "   macro avg       0.75      0.99      0.83       130\n",
            "weighted avg       0.99      0.98      0.99       130\n",
            "\n"
          ]
        }
      ]
    },
    {
      "cell_type": "code",
      "source": [
        "lr = LinearRegression()\n",
        "lr.fit(X_train_score, y_train_score)\n",
        "y_pred_lr = lr.predict(X_test_score)\n",
        "\n",
        "mae = mean_absolute_error(y_test_score, y_pred_lr)\n",
        "mse = mean_squared_error(y_test_score, y_pred_lr)\n",
        "rmse = np.sqrt(mse)\n",
        "r2 = r2_score(y_test_score, y_pred_lr)\n",
        "\n",
        "print(\"\\nLinear Regression Evaluation:\")\n",
        "print(f\"MAE: {mae}\")\n",
        "print(f\"MSE: {mse}\")\n",
        "print(f\"RMSE: {rmse}\")\n",
        "print(f\"R2 Score: {r2}\")"
      ],
      "metadata": {
        "colab": {
          "base_uri": "https://localhost:8080/"
        },
        "id": "tzBPqljXsTDF",
        "outputId": "9d85c137-b80d-4c6b-caa4-d447dae7c7fa"
      },
      "execution_count": 14,
      "outputs": [
        {
          "output_type": "stream",
          "name": "stdout",
          "text": [
            "\n",
            "Linear Regression Evaluation:\n",
            "MAE: 0.7083963659097099\n",
            "MSE: 0.9589456991129096\n",
            "RMSE: 0.9792577286459931\n",
            "R2 Score: 0.9544564239420992\n"
          ]
        }
      ]
    },
    {
      "cell_type": "code",
      "source": [
        "svr = SVR(kernel='rbf')\n",
        "svr.fit(X_train_score, y_train_score)\n",
        "y_pred_svr = svr.predict(X_test_score)\n",
        "\n",
        "mae_svr = mean_absolute_error(y_test_score, y_pred_svr)\n",
        "mse_svr = mean_squared_error(y_test_score, y_pred_svr)\n",
        "rmse_svr = np.sqrt(mse_svr)\n",
        "r2_svr = r2_score(y_test_score, y_pred_svr)\n",
        "\n",
        "print(\"\\nSupport Vector Regression Evaluation:\")\n",
        "print(f\"MAE: {mae_svr}\")\n",
        "print(f\"MSE: {mse_svr}\")\n",
        "print(f\"RMSE: {rmse_svr}\")\n",
        "print(f\"R2 Score: {r2_svr}\")"
      ],
      "metadata": {
        "colab": {
          "base_uri": "https://localhost:8080/"
        },
        "id": "RMYxJWPksXRt",
        "outputId": "4b66815f-3f7c-49cf-8741-ebbbfa4147e5"
      },
      "execution_count": 15,
      "outputs": [
        {
          "output_type": "stream",
          "name": "stdout",
          "text": [
            "\n",
            "Support Vector Regression Evaluation:\n",
            "MAE: 0.14544853801556992\n",
            "MSE: 0.11891322430095498\n",
            "RMSE: 0.3448379681835441\n",
            "R2 Score: 0.9943524086084846\n"
          ]
        }
      ]
    },
    {
      "cell_type": "code",
      "source": [
        "plt.figure(figsize=(10, 6))\n",
        "plt.scatter(y_test_score, y_pred_lr, color='blue', label='Linear Regression')\n",
        "plt.scatter(y_test_score, y_test_score, color='red', label='Actual')\n",
        "plt.title('Prediksi vs Aktual Skor Laptop')\n",
        "plt.xlabel('Skor Laptop Aktual')\n",
        "plt.ylabel('Skor Laptop Prediksi')\n",
        "plt.legend()\n",
        "plt.tight_layout()\n",
        "plt.show()\n"
      ],
      "metadata": {
        "colab": {
          "base_uri": "https://localhost:8080/",
          "height": 607
        },
        "id": "3LRf7w1usYIj",
        "outputId": "8023f020-c8e2-4a4b-8e68-2df73351fa1b"
      },
      "execution_count": 16,
      "outputs": [
        {
          "output_type": "display_data",
          "data": {
            "text/plain": [
              "<Figure size 1000x600 with 1 Axes>"
            ],
            "image/png": "[encoded data removed]"
          },
          "metadata": {}
        }
      ]
    },
    {
      "cell_type": "code",
      "source": [
        "print(\"\\nDistribusi Kelas Laptop:\")\n",
        "print(df['Kelas Laptop'].value_counts(normalize=True) * 100)\n",
        "\n",
        "df.to_csv('laptop_final_with_scoring.csv', index=False)\n",
        "print(\"\\nDataset final disimpan di: laptop_final_with_scoring.csv\")"
      ],
      "metadata": {
        "colab": {
          "base_uri": "https://localhost:8080/"
        },
        "id": "qR85kpw1sZja",
        "outputId": "dbb65142-7233-436f-9b5c-a85ee8a3b384"
      },
      "execution_count": 17,
      "outputs": [
        {
          "output_type": "stream",
          "name": "stdout",
          "text": [
            "\n",
            "Distribusi Kelas Laptop:\n",
            "Kelas Laptop\n",
            "Mid     95.510836\n",
            "High     4.489164\n",
            "Low      0.000000\n",
            "Name: proportion, dtype: float64\n",
            "\n",
            "Dataset final disimpan di: laptop_final_with_scoring.csv\n"
          ]
        }
      ]
    },
    {
      "cell_type": "code",
      "source": [
        "import pandas as pd\n",
        "import numpy as np\n",
        "from sklearn.model_selection import train_test_split\n",
        "from sklearn.preprocessing import StandardScaler\n",
        "from tensorflow.keras.models import Sequential\n",
        "from tensorflow.keras.layers import Dense, Dropout\n",
        "from tensorflow.keras.utils import to_categorical\n",
        "import matplotlib.pyplot as plt"
      ],
      "metadata": {
        "id": "qitTM3dIutQn"
      },
      "execution_count": 31,
      "outputs": []
    },
    {
      "cell_type": "code",
      "source": [
        "df = pd.read_csv('laptop_final_with_scoring.csv')\n",
        "X = df[['Penyimpanan', 'RAM_Numeric', 'Harga', 'Tier VGA', 'Tier Processor']]\n",
        "y = df['Kelas Laptop']"
      ],
      "metadata": {
        "id": "HeR0mbOEuus4"
      },
      "execution_count": 33,
      "outputs": []
    },
    {
      "cell_type": "code",
      "source": [
        "y_encoded = pd.get_dummies(y).values\n",
        "scaler = StandardScaler()\n",
        "X_scaled = scaler.fit_transform(X)"
      ],
      "metadata": {
        "id": "NDm9wSpVu02-"
      },
      "execution_count": 34,
      "outputs": []
    },
    {
      "cell_type": "code",
      "source": [
        "X_train, X_val, y_train, y_val = train_test_split(X_scaled, y_encoded, test_size=0.2, random_state=42)\n"
      ],
      "metadata": {
        "id": "SI3jDCFwu0sy"
      },
      "execution_count": 35,
      "outputs": []
    },
    {
      "cell_type": "code",
      "source": [
        "model = Sequential()\n",
        "model.add(Dense(64, input_dim=X_train.shape[1], activation='relu'))\n",
        "model.add(Dropout(0.2))\n",
        "model.add(Dense(64, activation='relu'))\n",
        "model.add(Dropout(0.2))\n",
        "model.add(Dense(2, activation='softmax'))\n"
      ],
      "metadata": {
        "colab": {
          "base_uri": "https://localhost:8080/"
        },
        "id": "rHXbZ-Jvu8y-",
        "outputId": "cce9c379-e7d5-4400-f6ec-8a18ba34f13c"
      },
      "execution_count": 46,
      "outputs": [
        {
          "output_type": "stream",
          "name": "stderr",
          "text": [
            "/usr/local/lib/python3.10/dist-packages/keras/src/layers/core/dense.py:87: UserWarning: Do not pass an `input_shape`/`input_dim` argument to a layer. When using Sequential models, prefer using an `Input(shape)` object as the first layer in the model instead.\n",
            "  super().__init__(activity_regularizer=activity_regularizer, **kwargs)\n"
          ]
        }
      ]
    },
    {
      "cell_type": "code",
      "source": [
        "model.compile(optimizer='adam', loss='categorical_crossentropy', metrics=['accuracy'])\n"
      ],
      "metadata": {
        "id": "uklKlDKFwXY5"
      },
      "execution_count": 47,
      "outputs": []
    },
    {
      "cell_type": "code",
      "source": [
        "print(y.value_counts())\n",
        "y = pd.concat([y, pd.Series(['Low', 'Mid', 'High'])])\n",
        "y_encoded = pd.get_dummies(y).iloc[:-3]\n"
      ],
      "metadata": {
        "id": "miCdyKlNXqlP",
        "outputId": "31378c56-ff3d-45e1-ebf5-e086ccf5ae3d",
        "colab": {
          "base_uri": "https://localhost:8080/"
        }
      },
      "execution_count": 48,
      "outputs": [
        {
          "output_type": "stream",
          "name": "stdout",
          "text": [
            "Mid     618\n",
            "High     30\n",
            "Low       2\n",
            "Name: count, dtype: int64\n"
          ]
        }
      ]
    },
    {
      "cell_type": "code",
      "source": [
        "# from imblearn.over_sampling import SMOTE\n",
        "\n",
        "# # Terapkan SMOTE untuk data oversampling\n",
        "# smote = SMOTE(random_state=42)\n",
        "# X_resampled, y_resampled = smote.fit_resample(X_scaled, y_encoded)\n",
        "\n",
        "# # Split kembali dataset yang sudah seimbang\n",
        "# X_train, X_val, y_train, y_val = train_test_split(X_resampled, y_resampled, test_size=0.2, random_state=42)\n"
      ],
      "metadata": {
        "id": "3c48EkujYArS"
      },
      "execution_count": 53,
      "outputs": []
    },
    {
      "cell_type": "code",
      "source": [
        "history = model.fit(\n",
        "    X_train, y_train,\n",
        "    validation_data=(X_val, y_val),\n",
        "    epochs=50,\n",
        "    batch_size=32,\n",
        "    verbose=1\n",
        ")\n"
      ],
      "metadata": {
        "colab": {
          "base_uri": "https://localhost:8080/"
        },
        "id": "0UgZrarUWbLD",
        "outputId": "1f228240-66aa-42c6-f4a7-6069d442a273"
      },
      "execution_count": 49,
      "outputs": [
        {
          "output_type": "stream",
          "name": "stdout",
          "text": [
            "Epoch 1/50\n",
            "\u001b[1m17/17\u001b[0m \u001b[32m━━━━━━━━━━━━━━━━━━━━\u001b[0m\u001b[37m\u001b[0m \u001b[1m2s\u001b[0m 34ms/step - accuracy: 0.6037 - loss: 0.6614 - val_accuracy: 0.9846 - val_loss: 0.3495\n",
            "Epoch 2/50\n",
            "\u001b[1m17/17\u001b[0m \u001b[32m━━━━━━━━━━━━━━━━━━━━\u001b[0m\u001b[37m\u001b[0m \u001b[1m0s\u001b[0m 4ms/step - accuracy: 0.9382 - loss: 0.3659 - val_accuracy: 0.9846 - val_loss: 0.1775\n",
            "Epoch 3/50\n",
            "\u001b[1m17/17\u001b[0m \u001b[32m━━━━━━━━━━━━━━━━━━━━\u001b[0m\u001b[37m\u001b[0m \u001b[1m0s\u001b[0m 4ms/step - accuracy: 0.9479 - loss: 0.2287 - val_accuracy: 0.9846 - val_loss: 0.1007\n",
            "Epoch 4/50\n",
            "\u001b[1m17/17\u001b[0m \u001b[32m━━━━━━━━━━━━━━━━━━━━\u001b[0m\u001b[37m\u001b[0m \u001b[1m0s\u001b[0m 4ms/step - accuracy: 0.9607 - loss: 0.1331 - val_accuracy: 1.0000 - val_loss: 0.0666\n",
            "Epoch 5/50\n",
            "\u001b[1m17/17\u001b[0m \u001b[32m━━━━━━━━━━━━━━━━━━━━\u001b[0m\u001b[37m\u001b[0m \u001b[1m0s\u001b[0m 4ms/step - accuracy: 0.9744 - loss: 0.0951 - val_accuracy: 1.0000 - val_loss: 0.0465\n",
            "Epoch 6/50\n",
            "\u001b[1m17/17\u001b[0m \u001b[32m━━━━━━━━━━━━━━━━━━━━\u001b[0m\u001b[37m\u001b[0m \u001b[1m0s\u001b[0m 4ms/step - accuracy: 0.9743 - loss: 0.0919 - val_accuracy: 1.0000 - val_loss: 0.0315\n",
            "Epoch 7/50\n",
            "\u001b[1m17/17\u001b[0m \u001b[32m━━━━━━━━━━━━━━━━━━━━\u001b[0m\u001b[37m\u001b[0m \u001b[1m0s\u001b[0m 4ms/step - accuracy: 0.9811 - loss: 0.0609 - val_accuracy: 1.0000 - val_loss: 0.0247\n",
            "Epoch 8/50\n",
            "\u001b[1m17/17\u001b[0m \u001b[32m━━━━━━━━━━━━━━━━━━━━\u001b[0m\u001b[37m\u001b[0m \u001b[1m0s\u001b[0m 4ms/step - accuracy: 0.9814 - loss: 0.0624 - val_accuracy: 1.0000 - val_loss: 0.0224\n",
            "Epoch 9/50\n",
            "\u001b[1m17/17\u001b[0m \u001b[32m━━━━━━━━━━━━━━━━━━━━\u001b[0m\u001b[37m\u001b[0m \u001b[1m0s\u001b[0m 3ms/step - accuracy: 0.9874 - loss: 0.0436 - val_accuracy: 1.0000 - val_loss: 0.0240\n",
            "Epoch 10/50\n",
            "\u001b[1m17/17\u001b[0m \u001b[32m━━━━━━━━━━━━━━━━━━━━\u001b[0m\u001b[37m\u001b[0m \u001b[1m0s\u001b[0m 5ms/step - accuracy: 0.9739 - loss: 0.0616 - val_accuracy: 1.0000 - val_loss: 0.0239\n",
            "Epoch 11/50\n",
            "\u001b[1m17/17\u001b[0m \u001b[32m━━━━━━━━━━━━━━━━━━━━\u001b[0m\u001b[37m\u001b[0m \u001b[1m0s\u001b[0m 4ms/step - accuracy: 0.9895 - loss: 0.0378 - val_accuracy: 1.0000 - val_loss: 0.0212\n",
            "Epoch 12/50\n",
            "\u001b[1m17/17\u001b[0m \u001b[32m━━━━━━━━━━━━━━━━━━━━\u001b[0m\u001b[37m\u001b[0m \u001b[1m0s\u001b[0m 5ms/step - accuracy: 0.9900 - loss: 0.0291 - val_accuracy: 1.0000 - val_loss: 0.0207\n",
            "Epoch 13/50\n",
            "\u001b[1m17/17\u001b[0m \u001b[32m━━━━━━━━━━━━━━━━━━━━\u001b[0m\u001b[37m\u001b[0m \u001b[1m0s\u001b[0m 4ms/step - accuracy: 0.9847 - loss: 0.0396 - val_accuracy: 1.0000 - val_loss: 0.0246\n",
            "Epoch 14/50\n",
            "\u001b[1m17/17\u001b[0m \u001b[32m━━━━━━━━━━━━━━━━━━━━\u001b[0m\u001b[37m\u001b[0m \u001b[1m0s\u001b[0m 4ms/step - accuracy: 0.9817 - loss: 0.0405 - val_accuracy: 1.0000 - val_loss: 0.0228\n",
            "Epoch 15/50\n",
            "\u001b[1m17/17\u001b[0m \u001b[32m━━━━━━━━━━━━━━━━━━━━\u001b[0m\u001b[37m\u001b[0m \u001b[1m0s\u001b[0m 3ms/step - accuracy: 0.9864 - loss: 0.0320 - val_accuracy: 1.0000 - val_loss: 0.0183\n",
            "Epoch 16/50\n",
            "\u001b[1m17/17\u001b[0m \u001b[32m━━━━━━━━━━━━━━━━━━━━\u001b[0m\u001b[37m\u001b[0m \u001b[1m0s\u001b[0m 4ms/step - accuracy: 0.9963 - loss: 0.0171 - val_accuracy: 1.0000 - val_loss: 0.0207\n",
            "Epoch 17/50\n",
            "\u001b[1m17/17\u001b[0m \u001b[32m━━━━━━━━━━━━━━━━━━━━\u001b[0m\u001b[37m\u001b[0m \u001b[1m0s\u001b[0m 4ms/step - accuracy: 0.9953 - loss: 0.0265 - val_accuracy: 0.9846 - val_loss: 0.0306\n",
            "Epoch 18/50\n",
            "\u001b[1m17/17\u001b[0m \u001b[32m━━━━━━━━━━━━━━━━━━━━\u001b[0m\u001b[37m\u001b[0m \u001b[1m0s\u001b[0m 5ms/step - accuracy: 0.9856 - loss: 0.0262 - val_accuracy: 0.9846 - val_loss: 0.0308\n",
            "Epoch 19/50\n",
            "\u001b[1m17/17\u001b[0m \u001b[32m━━━━━━━━━━━━━━━━━━━━\u001b[0m\u001b[37m\u001b[0m \u001b[1m0s\u001b[0m 4ms/step - accuracy: 0.9973 - loss: 0.0146 - val_accuracy: 0.9846 - val_loss: 0.0309\n",
            "Epoch 20/50\n",
            "\u001b[1m17/17\u001b[0m \u001b[32m━━━━━━━━━━━━━━━━━━━━\u001b[0m\u001b[37m\u001b[0m \u001b[1m0s\u001b[0m 4ms/step - accuracy: 0.9931 - loss: 0.0225 - val_accuracy: 0.9846 - val_loss: 0.0287\n",
            "Epoch 21/50\n",
            "\u001b[1m17/17\u001b[0m \u001b[32m━━━━━━━━━━━━━━━━━━━━\u001b[0m\u001b[37m\u001b[0m \u001b[1m0s\u001b[0m 4ms/step - accuracy: 0.9926 - loss: 0.0156 - val_accuracy: 0.9769 - val_loss: 0.0348\n",
            "Epoch 22/50\n",
            "\u001b[1m17/17\u001b[0m \u001b[32m━━━━━━━━━━━━━━━━━━━━\u001b[0m\u001b[37m\u001b[0m \u001b[1m0s\u001b[0m 3ms/step - accuracy: 0.9943 - loss: 0.0162 - val_accuracy: 0.9846 - val_loss: 0.0266\n",
            "Epoch 23/50\n",
            "\u001b[1m17/17\u001b[0m \u001b[32m━━━━━━━━━━━━━━━━━━━━\u001b[0m\u001b[37m\u001b[0m \u001b[1m0s\u001b[0m 4ms/step - accuracy: 0.9819 - loss: 0.0249 - val_accuracy: 0.9846 - val_loss: 0.0226\n",
            "Epoch 24/50\n",
            "\u001b[1m17/17\u001b[0m \u001b[32m━━━━━━━━━━━━━━━━━━━━\u001b[0m\u001b[37m\u001b[0m \u001b[1m0s\u001b[0m 4ms/step - accuracy: 0.9862 - loss: 0.0380 - val_accuracy: 0.9846 - val_loss: 0.0213\n",
            "Epoch 25/50\n",
            "\u001b[1m17/17\u001b[0m \u001b[32m━━━━━━━━━━━━━━━━━━━━\u001b[0m\u001b[37m\u001b[0m \u001b[1m0s\u001b[0m 4ms/step - accuracy: 0.9931 - loss: 0.0151 - val_accuracy: 0.9846 - val_loss: 0.0194\n",
            "Epoch 26/50\n",
            "\u001b[1m17/17\u001b[0m \u001b[32m━━━━━━━━━━━━━━━━━━━━\u001b[0m\u001b[37m\u001b[0m \u001b[1m0s\u001b[0m 6ms/step - accuracy: 0.9970 - loss: 0.0125 - val_accuracy: 0.9846 - val_loss: 0.0177\n",
            "Epoch 27/50\n",
            "\u001b[1m17/17\u001b[0m \u001b[32m━━━━━━━━━━━━━━━━━━━━\u001b[0m\u001b[37m\u001b[0m \u001b[1m0s\u001b[0m 6ms/step - accuracy: 0.9984 - loss: 0.0150 - val_accuracy: 0.9846 - val_loss: 0.0181\n",
            "Epoch 28/50\n",
            "\u001b[1m17/17\u001b[0m \u001b[32m━━━━━━━━━━━━━━━━━━━━\u001b[0m\u001b[37m\u001b[0m \u001b[1m0s\u001b[0m 6ms/step - accuracy: 0.9903 - loss: 0.0194 - val_accuracy: 0.9846 - val_loss: 0.0156\n",
            "Epoch 29/50\n",
            "\u001b[1m17/17\u001b[0m \u001b[32m━━━━━━━━━━━━━━━━━━━━\u001b[0m\u001b[37m\u001b[0m \u001b[1m0s\u001b[0m 6ms/step - accuracy: 0.9909 - loss: 0.0165 - val_accuracy: 0.9846 - val_loss: 0.0187\n",
            "Epoch 30/50\n",
            "\u001b[1m17/17\u001b[0m \u001b[32m━━━━━━━━━━━━━━━━━━━━\u001b[0m\u001b[37m\u001b[0m \u001b[1m0s\u001b[0m 6ms/step - accuracy: 0.9986 - loss: 0.0094 - val_accuracy: 0.9846 - val_loss: 0.0218\n",
            "Epoch 31/50\n",
            "\u001b[1m17/17\u001b[0m \u001b[32m━━━━━━━━━━━━━━━━━━━━\u001b[0m\u001b[37m\u001b[0m \u001b[1m0s\u001b[0m 7ms/step - accuracy: 0.9938 - loss: 0.0123 - val_accuracy: 0.9846 - val_loss: 0.0255\n",
            "Epoch 32/50\n",
            "\u001b[1m17/17\u001b[0m \u001b[32m━━━━━━━━━━━━━━━━━━━━\u001b[0m\u001b[37m\u001b[0m \u001b[1m0s\u001b[0m 5ms/step - accuracy: 1.0000 - loss: 0.0049 - val_accuracy: 0.9846 - val_loss: 0.0266\n",
            "Epoch 33/50\n",
            "\u001b[1m17/17\u001b[0m \u001b[32m━━━━━━━━━━━━━━━━━━━━\u001b[0m\u001b[37m\u001b[0m \u001b[1m0s\u001b[0m 6ms/step - accuracy: 0.9986 - loss: 0.0067 - val_accuracy: 0.9846 - val_loss: 0.0264\n",
            "Epoch 34/50\n",
            "\u001b[1m17/17\u001b[0m \u001b[32m━━━━━━━━━━━━━━━━━━━━\u001b[0m\u001b[37m\u001b[0m \u001b[1m0s\u001b[0m 5ms/step - accuracy: 1.0000 - loss: 0.0057 - val_accuracy: 0.9846 - val_loss: 0.0244\n",
            "Epoch 35/50\n",
            "\u001b[1m17/17\u001b[0m \u001b[32m━━━━━━━━━━━━━━━━━━━━\u001b[0m\u001b[37m\u001b[0m \u001b[1m0s\u001b[0m 6ms/step - accuracy: 0.9963 - loss: 0.0115 - val_accuracy: 0.9846 - val_loss: 0.0218\n",
            "Epoch 36/50\n",
            "\u001b[1m17/17\u001b[0m \u001b[32m━━━━━━━━━━━━━━━━━━━━\u001b[0m\u001b[37m\u001b[0m \u001b[1m0s\u001b[0m 6ms/step - accuracy: 0.9962 - loss: 0.0072 - val_accuracy: 0.9846 - val_loss: 0.0198\n",
            "Epoch 37/50\n",
            "\u001b[1m17/17\u001b[0m \u001b[32m━━━━━━━━━━━━━━━━━━━━\u001b[0m\u001b[37m\u001b[0m \u001b[1m0s\u001b[0m 5ms/step - accuracy: 0.9947 - loss: 0.0087 - val_accuracy: 0.9846 - val_loss: 0.0204\n",
            "Epoch 38/50\n",
            "\u001b[1m17/17\u001b[0m \u001b[32m━━━━━━━━━━━━━━━━━━━━\u001b[0m\u001b[37m\u001b[0m \u001b[1m0s\u001b[0m 6ms/step - accuracy: 0.9996 - loss: 0.0072 - val_accuracy: 0.9846 - val_loss: 0.0222\n",
            "Epoch 39/50\n",
            "\u001b[1m17/17\u001b[0m \u001b[32m━━━━━━━━━━━━━━━━━━━━\u001b[0m\u001b[37m\u001b[0m \u001b[1m0s\u001b[0m 6ms/step - accuracy: 1.0000 - loss: 0.0056 - val_accuracy: 0.9846 - val_loss: 0.0188\n",
            "Epoch 40/50\n",
            "\u001b[1m17/17\u001b[0m \u001b[32m━━━━━━━━━━━━━━━━━━━━\u001b[0m\u001b[37m\u001b[0m \u001b[1m0s\u001b[0m 6ms/step - accuracy: 1.0000 - loss: 0.0066 - val_accuracy: 0.9846 - val_loss: 0.0219\n",
            "Epoch 41/50\n",
            "\u001b[1m17/17\u001b[0m \u001b[32m━━━━━━━━━━━━━━━━━━━━\u001b[0m\u001b[37m\u001b[0m \u001b[1m0s\u001b[0m 6ms/step - accuracy: 1.0000 - loss: 0.0037 - val_accuracy: 0.9846 - val_loss: 0.0197\n",
            "Epoch 42/50\n",
            "\u001b[1m17/17\u001b[0m \u001b[32m━━━━━━━━━━━━━━━━━━━━\u001b[0m\u001b[37m\u001b[0m \u001b[1m0s\u001b[0m 6ms/step - accuracy: 0.9974 - loss: 0.0093 - val_accuracy: 0.9846 - val_loss: 0.0155\n",
            "Epoch 43/50\n",
            "\u001b[1m17/17\u001b[0m \u001b[32m━━━━━━━━━━━━━━━━━━━━\u001b[0m\u001b[37m\u001b[0m \u001b[1m0s\u001b[0m 6ms/step - accuracy: 0.9948 - loss: 0.0120 - val_accuracy: 1.0000 - val_loss: 0.0112\n",
            "Epoch 44/50\n",
            "\u001b[1m17/17\u001b[0m \u001b[32m━━━━━━━━━━━━━━━━━━━━\u001b[0m\u001b[37m\u001b[0m \u001b[1m0s\u001b[0m 6ms/step - accuracy: 0.9957 - loss: 0.0089 - val_accuracy: 0.9846 - val_loss: 0.0223\n",
            "Epoch 45/50\n",
            "\u001b[1m17/17\u001b[0m \u001b[32m━━━━━━━━━━━━━━━━━━━━\u001b[0m\u001b[37m\u001b[0m \u001b[1m0s\u001b[0m 4ms/step - accuracy: 0.9984 - loss: 0.0049 - val_accuracy: 0.9846 - val_loss: 0.0189\n",
            "Epoch 46/50\n",
            "\u001b[1m17/17\u001b[0m \u001b[32m━━━━━━━━━━━━━━━━━━━━\u001b[0m\u001b[37m\u001b[0m \u001b[1m0s\u001b[0m 4ms/step - accuracy: 0.9993 - loss: 0.0063 - val_accuracy: 0.9846 - val_loss: 0.0176\n",
            "Epoch 47/50\n",
            "\u001b[1m17/17\u001b[0m \u001b[32m━━━━━━━━━━━━━━━━━━━━\u001b[0m\u001b[37m\u001b[0m \u001b[1m0s\u001b[0m 4ms/step - accuracy: 0.9972 - loss: 0.0095 - val_accuracy: 0.9846 - val_loss: 0.0170\n",
            "Epoch 48/50\n",
            "\u001b[1m17/17\u001b[0m \u001b[32m━━━━━━━━━━━━━━━━━━━━\u001b[0m\u001b[37m\u001b[0m \u001b[1m0s\u001b[0m 4ms/step - accuracy: 1.0000 - loss: 0.0070 - val_accuracy: 0.9846 - val_loss: 0.0147\n",
            "Epoch 49/50\n",
            "\u001b[1m17/17\u001b[0m \u001b[32m━━━━━━━━━━━━━━━━━━━━\u001b[0m\u001b[37m\u001b[0m \u001b[1m0s\u001b[0m 3ms/step - accuracy: 1.0000 - loss: 0.0063 - val_accuracy: 0.9846 - val_loss: 0.0168\n",
            "Epoch 50/50\n",
            "\u001b[1m17/17\u001b[0m \u001b[32m━━━━━━━━━━━━━━━━━━━━\u001b[0m\u001b[37m\u001b[0m \u001b[1m0s\u001b[0m 5ms/step - accuracy: 1.0000 - loss: 0.0050 - val_accuracy: 0.9846 - val_loss: 0.0222\n"
          ]
        }
      ]
    },
    {
      "cell_type": "code",
      "source": [
        "plt.figure(figsize=(12, 6))"
      ],
      "metadata": {
        "colab": {
          "base_uri": "https://localhost:8080/",
          "height": 52
        },
        "id": "U9TXYD31vkbR",
        "outputId": "27ff4c13-71aa-49f4-f291-58db0acd7ab4"
      },
      "execution_count": 50,
      "outputs": [
        {
          "output_type": "execute_result",
          "data": {
            "text/plain": [
              "<Figure size 1200x600 with 0 Axes>"
            ]
          },
          "metadata": {},
          "execution_count": 50
        },
        {
          "output_type": "display_data",
          "data": {
            "text/plain": [
              "<Figure size 1200x600 with 0 Axes>"
            ]
          },
          "metadata": {}
        }
      ]
    },
    {
      "cell_type": "code",
      "source": [
        "plt.subplot(1, 2, 1)\n",
        "plt.plot(history.history['accuracy'], label='Training Accuracy')\n",
        "plt.plot(history.history['val_accuracy'], label='Validation Accuracy')\n",
        "plt.title('Model Accuracy')\n",
        "plt.xlabel('Epochs')\n",
        "plt.ylabel('Accuracy')\n",
        "plt.legend()"
      ],
      "metadata": {
        "colab": {
          "base_uri": "https://localhost:8080/",
          "height": 489
        },
        "id": "GZ1ofqvdvlyT",
        "outputId": "3c151c21-d588-490b-dc77-1241880dc3c7"
      },
      "execution_count": 51,
      "outputs": [
        {
          "output_type": "execute_result",
          "data": {
            "text/plain": [
              "<matplotlib.legend.Legend at 0x7c1b14c9fa00>"
            ]
          },
          "metadata": {},
          "execution_count": 51
        },
        {
          "output_type": "display_data",
          "data": {
            "text/plain": [
              "<Figure size 640x480 with 1 Axes>"
            ],
            "image/png": "[encoded data removed]"
          },
          "metadata": {}
        }
      ]
    },
    {
      "cell_type": "code",
      "source": [
        "plt.subplot(1, 2, 2)\n",
        "plt.plot(history.history['loss'], label='Training Loss')\n",
        "plt.plot(history.history['val_loss'], label='Validation Loss')\n",
        "plt.title('Model Loss')\n",
        "plt.xlabel('Epochs')\n",
        "plt.ylabel('Loss')\n",
        "plt.legend()\n",
        "\n",
        "plt.tight_layout()\n",
        "plt.show()"
      ],
      "metadata": {
        "colab": {
          "base_uri": "https://localhost:8080/",
          "height": 487
        },
        "id": "661y8XzAvnCD",
        "outputId": "5646c567-3fc4-481f-9731-3e2d67ecbb98"
      },
      "execution_count": 52,
      "outputs": [
        {
          "output_type": "display_data",
          "data": {
            "text/plain": [
              "<Figure size 640x480 with 1 Axes>"
            ],
            "image/png": "[encoded data removed]"
          },
          "metadata": {}
        }
      ]
    }
  ]
}