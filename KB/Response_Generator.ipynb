{
  "nbformat": 4,
  "nbformat_minor": 0,
  "metadata": {
    "colab": {
      "provenance": [],
      "gpuType": "T4"
    },
    "kernelspec": {
      "name": "python3",
      "display_name": "Python 3"
    },
    "language_info": {
      "name": "python"
    },
    "accelerator": "GPU"
  },
  "cells": [
    {
      "cell_type": "code",
      "execution_count": 1,
      "metadata": {
        "id": "YSSNv1YjNEsP"
      },
      "outputs": [],
      "source": [
        "import pandas as pd\n",
        "import random"
      ]
    },
    {
      "cell_type": "code",
      "source": [
        "df = pd.read_csv('laptop_final_with_scoring (4).csv')\n",
        "\n",
        "template_data = [\n",
        "    {\n",
        "        \"content\": \"Pertanyaan: Mengapa laptop [brand] [model] direkomendasikan? Jawaban: Laptop [brand] [model] direkomendasikan karena memiliki performa [performance_level] dengan skor [score], dilengkapi [processor] dan [vga] yang mendukung kebutuhan [user_category].\",\n",
        "    },\n",
        "    {\n",
        "        \"content\": \"Pertanyaan: Apa keunggulan spesifikasi laptop [brand] [model]? Jawaban: Laptop ini memiliki [processor] dengan [vga] berkapasitas tinggi, didukung [ram] RAM dan [storage] penyimpanan, ideal untuk [usage_type].\",\n",
        "    },\n",
        "    {\n",
        "        \"content\": \"Pertanyaan: Bagaimana performa laptop [brand] [model] untuk kebutuhan profesional? Jawaban: Dengan skor performa [score], laptop ini sangat cocok untuk kebutuhan [professional_use], dengan [key_spec] yang memenuhi standar profesional.\",\n",
        "    }\n",
        "]\n",
        "\n",
        "performance_levels = [\"tinggi\", \"sangat baik\", \"superior\", \"luar biasa\"]\n",
        "user_categories = [\"desainer\", \"gamer\", \"pengembang perangkat lunak\", \"profesional multimedia\"]\n",
        "usage_types = [\"game AAA terbaru\", \"rendering video 4K\", \"desain grafis profesional\", \"komputasi ilmiah\"]\n",
        "professional_uses = [\"desain arsitektur\", \"editing video profesional\", \"pengembangan game\", \"machine learning\"]\n",
        "key_specs = [\"kartu grafis canggih\", \"prosesor kelas atas\", \"kapasitas penyimpanan besar\", \"RAM berkapasitas tinggi\"]\n",
        "\n",
        "def generate_laptop_response(dataframe):\n",
        "    dataset = []\n",
        "    for _, laptop in dataframe.iterrows():\n",
        "        entry_template = random.choice(template_data)\n",
        "        content_variation = entry_template[\"content\"]\n",
        "        content_variation = content_variation.replace(\"[brand]\", laptop['Brand'])\n",
        "        content_variation = content_variation.replace(\"[model]\", laptop['Nama'].split()[2])\n",
        "        content_variation = content_variation.replace(\"[performance_level]\", random.choice(performance_levels))\n",
        "        content_variation = content_variation.replace(\"[score]\", f\"{laptop['Skor Laptop']:.2f}\")\n",
        "        content_variation = content_variation.replace(\"[processor]\", laptop['Processor'])\n",
        "        content_variation = content_variation.replace(\"[vga]\", laptop['VGA'])\n",
        "        content_variation = content_variation.replace(\"[ram]\", laptop['RAM'])\n",
        "        content_variation = content_variation.replace(\"[storage]\", f\"{laptop['Penyimpanan']} GB {laptop['Tipe Penyimpanan']}\")\n",
        "        content_variation = content_variation.replace(\"[user_category]\", random.choice(user_categories))\n",
        "        content_variation = content_variation.replace(\"[usage_type]\", random.choice(usage_types))\n",
        "        content_variation = content_variation.replace(\"[professional_use]\", random.choice(professional_uses))\n",
        "        content_variation = content_variation.replace(\"[key_spec]\", random.choice(key_specs))\n",
        "\n",
        "        dataset.append({\n",
        "            \"content\": content_variation\n",
        "        })\n",
        "\n",
        "    return dataset\n",
        "\n",
        "\n",
        "dataset = generate_laptop_response(df)\n",
        "\n",
        "for entry in dataset[:5]:\n",
        "    print(entry[\"content\"])\n",
        "    print(\"-\" * 50)"
      ],
      "metadata": {
        "colab": {
          "base_uri": "https://localhost:8080/"
        },
        "id": "wn3ho6SWNIjL",
        "outputId": "59ce0ea7-2b04-486b-a001-790e036d2657"
      },
      "execution_count": 2,
      "outputs": [
        {
          "output_type": "stream",
          "name": "stdout",
          "text": [
            "Pertanyaan: Bagaimana performa laptop Razer ADVANCE untuk kebutuhan profesional? Jawaban: Dengan skor performa 34.00, laptop ini sangat cocok untuk kebutuhan machine learning, dengan RAM berkapasitas tinggi yang memenuhi standar profesional.\n",
            "--------------------------------------------------\n",
            "Pertanyaan: Bagaimana performa laptop Razer ADVANCE untuk kebutuhan profesional? Jawaban: Dengan skor performa 36.09, laptop ini sangat cocok untuk kebutuhan machine learning, dengan kapasitas penyimpanan besar yang memenuhi standar profesional.\n",
            "--------------------------------------------------\n",
            "Pertanyaan: Apa keunggulan spesifikasi laptop Razer ADVANCE? Jawaban: Laptop ini memiliki Intel Core i9 dengan NVIDIA RTX4090 berkapasitas tinggi, didukung 16GB RAM dan 2000 GB SSD penyimpanan, ideal untuk game AAA terbaru.\n",
            "--------------------------------------------------\n",
            "Pertanyaan: Mengapa laptop Razer ADVANCE direkomendasikan? Jawaban: Laptop Razer ADVANCE direkomendasikan karena memiliki performa tinggi dengan skor 29.87, dilengkapi Intel Core i9 dan NVIDIA RTX4080 yang mendukung kebutuhan desainer.\n",
            "--------------------------------------------------\n",
            "Pertanyaan: Mengapa laptop Razer ADVANCE direkomendasikan? Jawaban: Laptop Razer ADVANCE direkomendasikan karena memiliki performa superior dengan skor 31.03, dilengkapi Intel Core i9 dan NVIDIA RTX4070 yang mendukung kebutuhan desainer.\n",
            "--------------------------------------------------\n"
          ]
        }
      ]
    }
  ]
}